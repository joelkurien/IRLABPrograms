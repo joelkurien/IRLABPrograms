{
  "nbformat": 4,
  "nbformat_minor": 0,
  "metadata": {
    "colab": {
      "name": "page-rank.ipynb",
      "provenance": [],
      "collapsed_sections": []
    },
    "kernelspec": {
      "name": "python3",
      "display_name": "Python 3"
    },
    "language_info": {
      "name": "python"
    }
  },
  "cells": [
    {
      "cell_type": "code",
      "metadata": {
        "id": "AtKFLtV-RMyG"
      },
      "source": [
        "from google.colab import drive\n",
        "import numpy as np\n",
        "from scipy.sparse import dok_matrix\n",
        "import networkx as nx"
      ],
      "execution_count": 1,
      "outputs": []
    },
    {
      "cell_type": "code",
      "metadata": {
        "colab": {
          "base_uri": "https://localhost:8080/"
        },
        "id": "0-k53lVFRi66",
        "outputId": "28fe0a3a-67d6-4faf-ea53-83b598dfe583"
      },
      "source": [
        "drive.mount('/content/drive')"
      ],
      "execution_count": 2,
      "outputs": [
        {
          "output_type": "stream",
          "name": "stdout",
          "text": [
            "Mounted at /content/drive\n"
          ]
        }
      ]
    },
    {
      "cell_type": "code",
      "metadata": {
        "colab": {
          "base_uri": "https://localhost:8080/"
        },
        "id": "RDKjKfGQRjD7",
        "outputId": "2dbe0bf9-b09d-41ed-ad38-e54ef358ee90"
      },
      "source": [
        "% cd /content/drive/MyDrive/stanford/\n",
        "% ls"
      ],
      "execution_count": 10,
      "outputs": [
        {
          "output_type": "stream",
          "name": "stdout",
          "text": [
            "/content/drive/MyDrive/stanford\n",
            "web-Stanford.txt\n"
          ]
        }
      ]
    },
    {
      "cell_type": "code",
      "metadata": {
        "colab": {
          "base_uri": "https://localhost:8080/"
        },
        "id": "fV-kP9Dcrfic",
        "outputId": "0e1232dd-6f15-4d7b-ca26-59fee99a28c9"
      },
      "source": [
        "A = np.array([\n",
        "  [0, 0, 1, 1],\n",
        "  [1, 0, 0, 0],\n",
        "  [1, 1, 0, 1],\n",
        "  [1, 1, 0, 0],\n",
        "])\n",
        "A = A/np.sum(A, axis=0)\n",
        "v = np.array([1, 1, 1, 1])\n",
        "v = v/np.sum(v)\n",
        "v = v.reshape((4, 1))\n",
        "A"
      ],
      "execution_count": 11,
      "outputs": [
        {
          "output_type": "execute_result",
          "data": {
            "text/plain": [
              "array([[0.        , 0.        , 1.        , 0.5       ],\n",
              "       [0.33333333, 0.        , 0.        , 0.        ],\n",
              "       [0.33333333, 0.5       , 0.        , 0.5       ],\n",
              "       [0.33333333, 0.5       , 0.        , 0.        ]])"
            ]
          },
          "metadata": {},
          "execution_count": 11
        }
      ]
    },
    {
      "cell_type": "code",
      "metadata": {
        "colab": {
          "base_uri": "https://localhost:8080/",
          "height": 319
        },
        "id": "02YXCk7rfb3w",
        "outputId": "d2647a20-1c9e-43f1-dea1-56dbc4c30275"
      },
      "source": [
        "G = nx.DiGraph()\n",
        "for ii, i in enumerate(A):\n",
        "  for jj, j in enumerate(i):\n",
        "    if j>0:\n",
        "      G.add_edge(ii, jj, weight=j)\n",
        "nx.draw(G, with_labels=True)   "
      ],
      "execution_count": 12,
      "outputs": [
        {
          "output_type": "display_data",
          "data": {
            "image/png": "[encoded data removed]",
            "text/plain": [
              "<Figure size 432x288 with 1 Axes>"
            ]
          },
          "metadata": {}
        }
      ]
    },
    {
      "cell_type": "code",
      "metadata": {
        "colab": {
          "base_uri": "https://localhost:8080/"
        },
        "id": "XR_JVippsA06",
        "outputId": "843e7ab1-18de-43e8-a8cf-b7b60c274347"
      },
      "source": [
        "v = [0.25, 0.25, 0.25, 0.25]\n",
        "while True:\n",
        "  new_v = A @ v\n",
        "  if np.allclose(new_v, v):\n",
        "    break\n",
        "  v = new_v\n",
        "v"
      ],
      "execution_count": 13,
      "outputs": [
        {
          "output_type": "execute_result",
          "data": {
            "text/plain": [
              "array([0.38709616, 0.12903205, 0.29032302, 0.19354877])"
            ]
          },
          "metadata": {},
          "execution_count": 13
        }
      ]
    },
    {
      "cell_type": "code",
      "metadata": {
        "id": "h-Y2wUlZJD7d"
      },
      "source": [
        ""
      ],
      "execution_count": 6,
      "outputs": []
    },
    {
      "cell_type": "code",
      "metadata": {
        "colab": {
          "base_uri": "https://localhost:8080/"
        },
        "id": "V4ElpuQ8Bd3p",
        "outputId": "cac8b606-848d-4313-8ee0-ead25b3b6905"
      },
      "source": [
        "A = np.array([\n",
        "  [0, 0, 1, 1],\n",
        "  [1, 0, 0, 0],\n",
        "  [1, 1, 0, 1],\n",
        "  [1, 1, 0, 0],\n",
        "])\n",
        "D = np.linalg.inv(np.diag([3, 2, 1, 2]))\n",
        "H = A @ D\n",
        "# A @ D\n",
        "v = np.array([1, 1, 1, 1])\n",
        "N = len(v)\n",
        "v = v/np.sum(v)\n",
        "damping_factor = 0.85\n",
        "iters = 0\n",
        "while True:\n",
        "  new_v = damping_factor * (H @ v) + (1-damping_factor)/N\n",
        "  # print(new_v)\n",
        "  iters+=1\n",
        "  if np.allclose(new_v, v):\n",
        "    break\n",
        "  v = new_v\n",
        "iters, v"
      ],
      "execution_count": 14,
      "outputs": [
        {
          "output_type": "execute_result",
          "data": {
            "text/plain": [
              "(16, array([0.36815162, 0.14180823, 0.2879621 , 0.20207804]))"
            ]
          },
          "metadata": {},
          "execution_count": 14
        }
      ]
    },
    {
      "cell_type": "code",
      "metadata": {
        "id": "-6fb5SU_Q8ZH"
      },
      "source": [
        "# now for the big file\n",
        "G = nx.DiGraph()\n",
        "dims = 281903\n",
        "sparce_matrix = dok_matrix((dims, dims), dtype=np.float32)\n",
        "D = np.zeros(dims)\n",
        "with open('web-Stanford.txt', 'r') as f:\n",
        "  # skipping first 4 comments, can be done by putting condition of '#' but why check thousand times!\n",
        "  for i in range(4):\n",
        "    next(f)\n",
        "  for i in f:\n",
        "    start_node, end_node = list(map(int, i.split()))\n",
        "    G.add_edge(start_node, end_node)\n",
        "    D[start_node-1] = D[start_node-1] + 1\n",
        "with open('web-Stanford.txt', 'r') as f:\n",
        "  # skipping first 4 comments, can be done by putting condition of '#' but why check thousand times!\n",
        "  for i in range(4):\n",
        "    next(f)\n",
        "  for i in f:\n",
        "    start_node, end_node = list(map(int, i.split()))\n",
        "    sparce_matrix[start_node-1, end_node-1] = 1/D[start_node-1]\n",
        "sparce_matrix = sparce_matrix.tocsr()"
      ],
      "execution_count": 15,
      "outputs": []
    },
    {
      "cell_type": "code",
      "metadata": {
        "id": "uS8izrfJg_jQ"
      },
      "source": [
        "nx.draw(G, with_labels=True)   "
      ],
      "execution_count": null,
      "outputs": []
    },
    {
      "cell_type": "code",
      "metadata": {
        "id": "uET0F4o-WLib"
      },
      "source": [
        "def get_ranks(H, v, N, dangling_factor=0.85):\n",
        "  iters = 0\n",
        "  while True:\n",
        "    new_v = dangling_factor * (H @ v) + (1-dangling_factor)/N\n",
        "    # print(new_v)\n",
        "    iters+=1\n",
        "    if np.allclose(new_v, v):\n",
        "      break\n",
        "    v = new_v\n",
        "  print(iters)\n",
        "  print(v)\n",
        "  return v\n",
        "v = np.ones(dims)/dims\n",
        "z = get_ranks(sparce_matrix, v, dims)"
      ],
      "execution_count": null,
      "outputs": []
    },
    {
      "cell_type": "code",
      "metadata": {
        "id": "DBq6-6i2wjST"
      },
      "source": [
        "np.sum(z)"
      ],
      "execution_count": null,
      "outputs": []
    },
    {
      "cell_type": "code",
      "metadata": {
        "id": "wxcIW5zj9yGH"
      },
      "source": [
        ""
      ],
      "execution_count": null,
      "outputs": []
    }
  ]
}