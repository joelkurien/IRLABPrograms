{
 "cells": [
  {
   "cell_type": "code",
   "execution_count": 181,
   "metadata": {},
   "outputs": [],
   "source": [
    "import csv\n",
    "import requests\n",
    "import json\n",
    "import random"
   ]
  },
  {
   "cell_type": "code",
   "execution_count": 185,
   "metadata": {},
   "outputs": [],
   "source": [
    "#finding the optimal weights and MAP score of the Vector Space Retreival model\n",
    "#for a single query on Cranfield Dataset\n",
    "def search(query):\n",
    "    relevant_docs = []\n",
    "    with open(r'C:\\Users\\NEW\\Downloads\\cran\\cranqrel', 'r') as rel:\n",
    "        csv_read = csv.reader(rel)\n",
    "        for row in csv_read:\n",
    "            q_no, doc_id, rel_no = row[0].split()\n",
    "            if int(q_no) == 2:\n",
    "                if int(rel_no)>=2:\n",
    "                    relevant_docs.append(doc_id)\n",
    "    print(relevant_docs) \n",
    "    \n",
    "    precision_array = []\n",
    "    map_array = []\n",
    "    for a in range(10):\n",
    "        for b in range(10):\n",
    "            title = query['query']['multi_match']['fields'][0].split('^')\n",
    "            title[1] = str(a)\n",
    "            title = '^'.join(title)\n",
    "            query['query']['multi_match']['fields'][0] = title\n",
    "            data = query['query']['multi_match']['fields'][1].split('^')\n",
    "            data[1] = str(b)\n",
    "            data = '^'.join(data)\n",
    "            query['query']['multi_match']['fields'][1] = data\n",
    "                     \n",
    "            url = 'http://localhost:9200/cran_experiment/_search'\n",
    "            httpResp = requests.get(url, data=json.dumps(query), headers={\"content-type\":\"application/json\"})\n",
    "            searchHits = json.loads(httpResp.text)[\"hits\"]\n",
    "            rel_docs = 0\n",
    "            c = 0\n",
    "            precision = []\n",
    "            for idx, hit in enumerate(searchHits['hits']):\n",
    "                if hit['_source']['id'] in relevant_docs:\n",
    "                    rel_docs += 1\n",
    "                c += 1\n",
    "                precision.append(rel_docs/c)\n",
    "        precision_array.append([sum(precision), a, b])\n",
    "            \n",
    "    map_array = [x[0]/10 for x in precision_array]\n",
    "    print(len(map_array))\n",
    "    print(f\"The MAP Score of the corpus on the given query is: {max(map_array)}\")\n",
    "    \n",
    "    print(f\"The optimized weights are: \")\n",
    "    for i in range(len(map_array)):\n",
    "        if map_array[i] == max(map_array):\n",
    "            a = precision_array[i][1]\n",
    "            b = precision_array[i][2]\n",
    "            title = query['query']['multi_match']['fields'][0].split('^')\n",
    "            title[1] = str(a)\n",
    "            title = '^'.join(title)\n",
    "            query['query']['multi_match']['fields'][0] = title\n",
    "            data = query['query']['multi_match']['fields'][1].split('^')\n",
    "            data[1] = str(b)\n",
    "            data = '^'.join(data)\n",
    "            query['query']['multi_match']['fields'][1] = data\n",
    "            url = 'http://localhost:9200/cran_experiment/_search'\n",
    "            httpResp = requests.get(url, data=json.dumps(query), headers={\"content-type\":\"application/json\"})\n",
    "            searchHits = json.loads(httpResp.text)[\"hits\"]\n",
    "            print (\"Num\\tRelevance Score\\t\\t ID\\t Title\")\n",
    "            for idx, hit in enumerate(searchHits['hits']):\n",
    "                print(\"%s\\t%s\\t\\t%s\\t%s\" %\n",
    "                      (idx + 1, hit['_score'], hit['_source']['id'], hit['_source']['title']))\n",
    "            break"
   ]
  },
  {
   "cell_type": "code",
   "execution_count": 186,
   "metadata": {},
   "outputs": [],
   "source": [
    "query = {      \n",
    "    \"query\": {\n",
    "        \"multi_match\": {\n",
    "            \"query\": \"what similarity laws must be obeyed when constructing aeroelastic models of heated high speed aircraft\",\n",
    "            \"fields\": [f\"title^1\", f\"data^1\"]\n",
    "         }\n",
    "     }\n",
    "}"
   ]
  },
  {
   "cell_type": "code",
   "execution_count": 187,
   "metadata": {
    "scrolled": true
   },
   "outputs": [
    {
     "name": "stdout",
     "output_type": "stream",
     "text": [
      "['15', '184', '858', '51', '102', '202', '14', '52', '380', '859', '948', '285', '390', '391', '442', '497', '643', '856', '857', '877', '864', '658']\n",
      "10\n",
      "The MAP Score of the corpus on the given query is: 0.39107142857142857\n",
      "The optimized weights are: \n",
      "Num\tRelevance Score\t\t ID\t Title\n",
      "1\t207.9244\t\t184\tscale models for thermo-aeroelastic research .\n",
      "2\t188.16914\t\t486\tsimilarity laws for aerothermoelastic testing .\n",
      "3\t176.17871\t\t13\tsimilarity laws for stressing heated wings .\n",
      "4\t164.00404\t\t1268\tstable combustion of a high-velocity gas in a heated\n",
      "boundary layer .\n",
      "5\t161.11797\t\t12\tsome structural and aerelastic considerations of high\n",
      "speed flight .\n",
      "6\t133.99417\t\t51\ttheory of aircraft structural models subjected to aerodynamic\n",
      "heating and external loads .\n",
      "7\t126.516014\t\t878\texperimental model techniques and equipment for flutter\n",
      "investigations .\n",
      "8\t126.23116\t\t14\tpiston theory - a new aerodynamic tool for the\n",
      "aeroelastician .\n",
      "9\t111.33605\t\t1361\tlarge deflections of structures subjected to heating\n",
      "and external loads .\n",
      "10\t109.27003\t\t172\tsome aerodynamic considerations of nozzle afterbody\n",
      "combination .\n"
     ]
    }
   ],
   "source": [
    "search(query)"
   ]
  },
  {
   "cell_type": "code",
   "execution_count": 72,
   "metadata": {},
   "outputs": [],
   "source": [
    "query = {      \n",
    "    \"query\": {\n",
    "        \"multi_match\": {\n",
    "            \"query\": \"what similarity laws must be obeyed when constructing aeroelastic models of heated high speed aircraft\",\n",
    "            \"fields\": [\"title^1\", \"data^10\"]\n",
    "         }\n",
    "     }\n",
    "}"
   ]
  },
  {
   "cell_type": "code",
   "execution_count": null,
   "metadata": {},
   "outputs": [],
   "source": []
  },
  {
   "cell_type": "code",
   "execution_count": null,
   "metadata": {},
   "outputs": [],
   "source": []
  }
 ],
 "metadata": {
  "kernelspec": {
   "display_name": "Python 3",
   "language": "python",
   "name": "python3"
  },
  "language_info": {
   "codemirror_mode": {
    "name": "ipython",
    "version": 3
   },
   "file_extension": ".py",
   "mimetype": "text/x-python",
   "name": "python",
   "nbconvert_exporter": "python",
   "pygments_lexer": "ipython3",
   "version": "3.7.4"
  }
 },
 "nbformat": 4,
 "nbformat_minor": 5
}
