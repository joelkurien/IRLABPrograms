{
  "nbformat": 4,
  "nbformat_minor": 0,
  "metadata": {
    "colab": {
      "name": "IR Lab 6.ipynb",
      "provenance": [],
      "collapsed_sections": []
    },
    "kernelspec": {
      "name": "python3",
      "display_name": "Python 3"
    },
    "language_info": {
      "name": "python"
    }
  },
  "cells": [
    {
      "cell_type": "code",
      "metadata": {
        "id": "YnMElwlqdz-Z"
      },
      "source": [
        "import pandas as pd\n",
        "import math\n",
        "import numpy as np\n",
        "from sklearn.datasets import fetch_20newsgroups\n",
        "import matplotlib.pyplot as plt\n",
        "from string import punctuation\n",
        "import nltk\n",
        "pi = math.pi"
      ],
      "execution_count": null,
      "outputs": []
    },
    {
      "cell_type": "code",
      "metadata": {
        "id": "io4EqxwiqVLS"
      },
      "source": [
        "newsgroups_train = fetch_20newsgroups(subset='train')\n"
      ],
      "execution_count": null,
      "outputs": []
    },
    {
      "cell_type": "code",
      "metadata": {
        "id": "iMvhnb1FvdV7"
      },
      "source": [
        "data=newsgroups_train['data']"
      ],
      "execution_count": null,
      "outputs": []
    },
    {
      "cell_type": "code",
      "metadata": {
        "colab": {
          "base_uri": "https://localhost:8080/"
        },
        "id": "VgEFMaBdgNi4",
        "outputId": "046a621b-d3cc-4b9b-97fa-eda25b61f26a"
      },
      "source": [
        "nltk.download('stopwords')"
      ],
      "execution_count": null,
      "outputs": [
        {
          "output_type": "stream",
          "name": "stdout",
          "text": [
            "[nltk_data] Downloading package stopwords to /root/nltk_data...\n",
            "[nltk_data]   Package stopwords is already up-to-date!\n"
          ]
        },
        {
          "output_type": "execute_result",
          "data": {
            "text/plain": [
              "True"
            ]
          },
          "metadata": {},
          "execution_count": 28
        }
      ]
    },
    {
      "cell_type": "code",
      "metadata": {
        "id": "RApII2DG7TmY"
      },
      "source": [
        "\n",
        "\n",
        "inp = ['/content/drive/MyDrive/IR/LSI/Doc1.txt','/content/drive/MyDrive/IR/LSI/Doc2.txt',\n",
        "'/content/drive/MyDrive/IR/LSI/Doc3.txt','/content/drive/MyDrive/IR/LSI/Doc4.txt',\n",
        "'/content/drive/MyDrive/IR/LSI/Doc5.txt']\n"
      ],
      "execution_count": null,
      "outputs": []
    },
    {
      "cell_type": "code",
      "metadata": {
        "id": "ANnf5OWjffdi"
      },
      "source": [
        "def rem_punct(s):\n",
        "    str1 = ''\n",
        "    for char in s:\n",
        "        if(char not in punctuation):\n",
        "            str1 = str1 + char\n",
        "    return str1\n",
        "\n",
        "def rem_nums(s):\n",
        "    str1 = ''\n",
        "    for num in s:\n",
        "        if(not num.isdigit()):\n",
        "            str1 = str1 + num\n",
        "    return str1\n"
      ],
      "execution_count": null,
      "outputs": []
    },
    {
      "cell_type": "code",
      "metadata": {
        "colab": {
          "base_uri": "https://localhost:8080/"
        },
        "id": "dhYWgRWJh0pZ",
        "outputId": "2ac23af0-f4e9-43e0-b686-d39f97fc8b03"
      },
      "source": [
        "\n",
        "\n",
        "docs = len(inp) #number of documents\n",
        "store =[] #list of content of all docs. stored as a string \n",
        "#store=newsgroups_train['data'][0:100]\n",
        "\n",
        "for i in range(len(inp)):\n",
        "    file = open(inp[i],'r')\n",
        "    string = ''\n",
        "    while 1: \n",
        "        # read by character \n",
        "        char = file.read(1)\n",
        "        if char!='\\n':\n",
        "            string+=char\n",
        "        if not char:  \n",
        "            break\n",
        "    store.append(string)\n",
        "    file.close\n",
        "\n",
        "\n",
        "\n",
        "stopwords = nltk.corpus.stopwords.words('english')\n",
        "\n",
        "all_docs = []\n",
        "for string in store:\n",
        "    string = rem_punct(rem_nums(string).lower())\n",
        "    string = string.split(\" \")\n",
        "    all_docs.append(string)\n",
        "\n",
        "bow=[] #bag of words\n",
        "for j in range(docs):\n",
        "    temp = []\n",
        "    for i in all_docs[j]: #all_docs[j] is the jth document's list of words\n",
        "        if i not in stopwords and len(i)>0 and i!=None:\n",
        "            temp.append(i)\n",
        "            #print(i)\n",
        "    bow.append(temp)\n",
        "print(bow)"
      ],
      "execution_count": null,
      "outputs": [
        {
          "output_type": "stream",
          "name": "stdout",
          "text": [
            "[['svd', 'matrix', 'helps', 'us', 'compress', 'data', 'jacobi', 'qr', 'etc', 'methods', 'used'], ['add', 'matrices', 'dimensions', 'necessary', 'multiply'], ['solution', 'space', 'linear', 'system', 'found', 'reducing', 'matrix', 'row', 'reduced', 'echelon', 'form'], ['lion', 'king', 'animal', 'kingdom'], ['mango', 'king', 'fruits']]\n"
          ]
        }
      ]
    },
    {
      "cell_type": "code",
      "metadata": {
        "colab": {
          "base_uri": "https://localhost:8080/"
        },
        "id": "z6_BYNYhflT3",
        "outputId": "cf3445d3-dd3a-4d04-89ce-834304e69bdc"
      },
      "source": [
        "\n",
        "def unique(bow):\n",
        "    a = bow[0]\n",
        "    for i in range(1,len(bow)):\n",
        "        a = set(a).union(set(bow[i]))\n",
        "    print(a)\n",
        "    return a\n",
        "\n",
        "wordset = unique(bow)\n"
      ],
      "execution_count": null,
      "outputs": [
        {
          "output_type": "stream",
          "name": "stdout",
          "text": [
            "{'mango', 'echelon', 'lion', 'necessary', 'etc', 'used', 'dimensions', 'reduced', 'reducing', 'solution', 'add', 'qr', 'space', 'helps', 'us', 'form', 'matrices', 'king', 'row', 'multiply', 'animal', 'svd', 'linear', 'methods', 'system', 'fruits', 'compress', 'data', 'matrix', 'jacobi', 'found', 'kingdom'}\n"
          ]
        }
      ]
    },
    {
      "cell_type": "code",
      "metadata": {
        "id": "QYJatRfvfrDk"
      },
      "source": [
        "def term_document_matrix():\n",
        "    for bow_i,worddict_i in zip(bow,worddict): #zip takes first row of bow and key of worddict\n",
        "        for word in bow_i:\n",
        "            worddict_i[word]+=1 #increments value of each word when found in the document\n",
        "        \n",
        "    return pd.DataFrame(worddict)\n",
        "#The above function returns a document term matrix.\n",
        "#from this we get number of times a unique word is found in each document respectively.\n"
      ],
      "execution_count": null,
      "outputs": []
    },
    {
      "cell_type": "code",
      "metadata": {
        "colab": {
          "base_uri": "https://localhost:8080/"
        },
        "id": "i3CP8vRPiTug",
        "outputId": "9ced326d-8fd6-4bd8-a34c-586684520136"
      },
      "source": [
        "\n",
        "\n",
        "worddict = [dict.fromkeys(wordset,0) for i in range(len(bow))]\n",
        "docterm = term_document_matrix()\n",
        "print(docterm)"
      ],
      "execution_count": null,
      "outputs": [
        {
          "output_type": "stream",
          "name": "stdout",
          "text": [
            "   mango  echelon  lion  necessary  etc  ...  data  matrix  jacobi  found  kingdom\n",
            "0      0        0     0          0    1  ...     1       1       1      0        0\n",
            "1      0        0     0          1    0  ...     0       0       0      0        0\n",
            "2      0        1     0          0    0  ...     0       1       0      1        0\n",
            "3      0        0     1          0    0  ...     0       0       0      0        1\n",
            "4      1        0     0          0    0  ...     0       0       0      0        0\n",
            "\n",
            "[5 rows x 32 columns]\n"
          ]
        }
      ]
    },
    {
      "cell_type": "code",
      "metadata": {
        "id": "FmxrsTWhfxvM"
      },
      "source": [
        "def term_freq(worddict,bow):\n",
        "    tfdict = {} #tfdict -- term frequency dict\n",
        "    bowcount = len(bow) #bowcount = total number of words in the document \n",
        "    for word,count in worddict.items(): \n",
        "        tfdict[word] = count/float(bowcount)\n",
        "    return tfdict\n"
      ],
      "execution_count": null,
      "outputs": []
    },
    {
      "cell_type": "code",
      "metadata": {
        "colab": {
          "base_uri": "https://localhost:8080/"
        },
        "id": "Yw27iP9AjoBp",
        "outputId": "a5a46a1a-39bc-419e-f353-6bd2674ee729"
      },
      "source": [
        "tfbow = []\n",
        "for i,j in zip(worddict,bow): #worddict is a list of dictionaries\n",
        "    tfbow.append(term_freq(i,j))\n",
        "\n",
        "#tfbow is a list of dictionaries. ith dictionary in tfbow is the tfdict of ith document \n",
        "\n",
        "print(tfbow)"
      ],
      "execution_count": null,
      "outputs": [
        {
          "output_type": "stream",
          "name": "stdout",
          "text": [
            "[{'mango': 0.0, 'echelon': 0.0, 'lion': 0.0, 'necessary': 0.0, 'etc': 0.09090909090909091, 'used': 0.09090909090909091, 'dimensions': 0.0, 'reduced': 0.0, 'reducing': 0.0, 'solution': 0.0, 'add': 0.0, 'qr': 0.09090909090909091, 'space': 0.0, 'helps': 0.09090909090909091, 'us': 0.09090909090909091, 'form': 0.0, 'matrices': 0.0, 'king': 0.0, 'row': 0.0, 'multiply': 0.0, 'animal': 0.0, 'svd': 0.09090909090909091, 'linear': 0.0, 'methods': 0.09090909090909091, 'system': 0.0, 'fruits': 0.0, 'compress': 0.09090909090909091, 'data': 0.09090909090909091, 'matrix': 0.09090909090909091, 'jacobi': 0.09090909090909091, 'found': 0.0, 'kingdom': 0.0}, {'mango': 0.0, 'echelon': 0.0, 'lion': 0.0, 'necessary': 0.2, 'etc': 0.0, 'used': 0.0, 'dimensions': 0.2, 'reduced': 0.0, 'reducing': 0.0, 'solution': 0.0, 'add': 0.2, 'qr': 0.0, 'space': 0.0, 'helps': 0.0, 'us': 0.0, 'form': 0.0, 'matrices': 0.2, 'king': 0.0, 'row': 0.0, 'multiply': 0.2, 'animal': 0.0, 'svd': 0.0, 'linear': 0.0, 'methods': 0.0, 'system': 0.0, 'fruits': 0.0, 'compress': 0.0, 'data': 0.0, 'matrix': 0.0, 'jacobi': 0.0, 'found': 0.0, 'kingdom': 0.0}, {'mango': 0.0, 'echelon': 0.09090909090909091, 'lion': 0.0, 'necessary': 0.0, 'etc': 0.0, 'used': 0.0, 'dimensions': 0.0, 'reduced': 0.09090909090909091, 'reducing': 0.09090909090909091, 'solution': 0.09090909090909091, 'add': 0.0, 'qr': 0.0, 'space': 0.09090909090909091, 'helps': 0.0, 'us': 0.0, 'form': 0.09090909090909091, 'matrices': 0.0, 'king': 0.0, 'row': 0.09090909090909091, 'multiply': 0.0, 'animal': 0.0, 'svd': 0.0, 'linear': 0.09090909090909091, 'methods': 0.0, 'system': 0.09090909090909091, 'fruits': 0.0, 'compress': 0.0, 'data': 0.0, 'matrix': 0.09090909090909091, 'jacobi': 0.0, 'found': 0.09090909090909091, 'kingdom': 0.0}, {'mango': 0.0, 'echelon': 0.0, 'lion': 0.25, 'necessary': 0.0, 'etc': 0.0, 'used': 0.0, 'dimensions': 0.0, 'reduced': 0.0, 'reducing': 0.0, 'solution': 0.0, 'add': 0.0, 'qr': 0.0, 'space': 0.0, 'helps': 0.0, 'us': 0.0, 'form': 0.0, 'matrices': 0.0, 'king': 0.25, 'row': 0.0, 'multiply': 0.0, 'animal': 0.25, 'svd': 0.0, 'linear': 0.0, 'methods': 0.0, 'system': 0.0, 'fruits': 0.0, 'compress': 0.0, 'data': 0.0, 'matrix': 0.0, 'jacobi': 0.0, 'found': 0.0, 'kingdom': 0.25}, {'mango': 0.3333333333333333, 'echelon': 0.0, 'lion': 0.0, 'necessary': 0.0, 'etc': 0.0, 'used': 0.0, 'dimensions': 0.0, 'reduced': 0.0, 'reducing': 0.0, 'solution': 0.0, 'add': 0.0, 'qr': 0.0, 'space': 0.0, 'helps': 0.0, 'us': 0.0, 'form': 0.0, 'matrices': 0.0, 'king': 0.3333333333333333, 'row': 0.0, 'multiply': 0.0, 'animal': 0.0, 'svd': 0.0, 'linear': 0.0, 'methods': 0.0, 'system': 0.0, 'fruits': 0.3333333333333333, 'compress': 0.0, 'data': 0.0, 'matrix': 0.0, 'jacobi': 0.0, 'found': 0.0, 'kingdom': 0.0}]\n"
          ]
        }
      ]
    },
    {
      "cell_type": "code",
      "metadata": {
        "id": "Wq8lI5AXf4N5"
      },
      "source": [
        "def idf(doclist):\n",
        "    idfdict={}\n",
        "    n = len(doclist)\n",
        "    idfdict = dict.fromkeys(doclist[0].keys(),0)\n",
        "    #initializes idfdict as a dictionary which has same keys as doclist[0] and value of each key is 0\n",
        "    for doc in doclist:\n",
        "        for word,val in doc.items():\n",
        "            if val>0:\n",
        "                idfdict[word]+=1\n",
        "    #now idfdict has total occurences of each word in all of the documents\n",
        "    #note that multiple occurences of a word in one document is considered as 1\n",
        "    #hence if value of a key is... for eg: {'king':2,....} \n",
        "    #this means that the word king has appeared in 2 documents\n",
        "    for word,val in idfdict.items():\n",
        "        idfdict[word]=math.log(n/float(val)) \n",
        "        #computes log (total num of documents/no. of documents that contain a particular word)n\n",
        "    return idfdict\n"
      ],
      "execution_count": null,
      "outputs": []
    },
    {
      "cell_type": "code",
      "metadata": {
        "colab": {
          "base_uri": "https://localhost:8080/"
        },
        "id": "PVOYqvLJjy_1",
        "outputId": "247dcf9e-6fbc-475c-c6f8-0e4acf3af1f2"
      },
      "source": [
        "\n",
        "idfs = idf(worddict) #stores idf value of all words\n",
        "print(idfs)"
      ],
      "execution_count": null,
      "outputs": [
        {
          "output_type": "stream",
          "name": "stdout",
          "text": [
            "{'mango': 1.6094379124341003, 'echelon': 1.6094379124341003, 'lion': 1.6094379124341003, 'necessary': 1.6094379124341003, 'etc': 1.6094379124341003, 'used': 1.6094379124341003, 'dimensions': 1.6094379124341003, 'reduced': 1.6094379124341003, 'reducing': 1.6094379124341003, 'solution': 1.6094379124341003, 'add': 1.6094379124341003, 'qr': 1.6094379124341003, 'space': 1.6094379124341003, 'helps': 1.6094379124341003, 'us': 1.6094379124341003, 'form': 1.6094379124341003, 'matrices': 1.6094379124341003, 'king': 0.9162907318741551, 'row': 1.6094379124341003, 'multiply': 1.6094379124341003, 'animal': 1.6094379124341003, 'svd': 1.6094379124341003, 'linear': 1.6094379124341003, 'methods': 1.6094379124341003, 'system': 1.6094379124341003, 'fruits': 1.6094379124341003, 'compress': 1.6094379124341003, 'data': 1.6094379124341003, 'matrix': 0.9162907318741551, 'jacobi': 1.6094379124341003, 'found': 1.6094379124341003, 'kingdom': 1.6094379124341003}\n"
          ]
        }
      ]
    },
    {
      "cell_type": "code",
      "metadata": {
        "id": "fS6EdgdGgB1o"
      },
      "source": [
        "def tfidf(tfbow_dict,idfs):\n",
        "    tfidf = {}\n",
        "    for word,val in tfbow_dict.items():\n",
        "        tfidf[word]=val*idfs[word] #multiply term freq with idf for each term \n",
        "    return tfidf\n"
      ],
      "execution_count": null,
      "outputs": []
    },
    {
      "cell_type": "code",
      "metadata": {
        "colab": {
          "base_uri": "https://localhost:8080/"
        },
        "id": "fmwNmU1ikLNr",
        "outputId": "aa097253-8dc2-462c-91c1-f58e81678210"
      },
      "source": [
        "\n",
        "tfidfl = [] \n",
        "for i in tfbow:\n",
        "    tfidfl.append(tfidf(i,idfs))  \n",
        "print(tfidfl)"
      ],
      "execution_count": null,
      "outputs": [
        {
          "output_type": "stream",
          "name": "stdout",
          "text": [
            "[{'mango': 0.0, 'echelon': 0.0, 'lion': 0.0, 'necessary': 0.0, 'etc': 0.14631253749400913, 'used': 0.14631253749400913, 'dimensions': 0.0, 'reduced': 0.0, 'reducing': 0.0, 'solution': 0.0, 'add': 0.0, 'qr': 0.14631253749400913, 'space': 0.0, 'helps': 0.14631253749400913, 'us': 0.14631253749400913, 'form': 0.0, 'matrices': 0.0, 'king': 0.0, 'row': 0.0, 'multiply': 0.0, 'animal': 0.0, 'svd': 0.14631253749400913, 'linear': 0.0, 'methods': 0.14631253749400913, 'system': 0.0, 'fruits': 0.0, 'compress': 0.14631253749400913, 'data': 0.14631253749400913, 'matrix': 0.08329915744310501, 'jacobi': 0.14631253749400913, 'found': 0.0, 'kingdom': 0.0}, {'mango': 0.0, 'echelon': 0.0, 'lion': 0.0, 'necessary': 0.3218875824868201, 'etc': 0.0, 'used': 0.0, 'dimensions': 0.3218875824868201, 'reduced': 0.0, 'reducing': 0.0, 'solution': 0.0, 'add': 0.3218875824868201, 'qr': 0.0, 'space': 0.0, 'helps': 0.0, 'us': 0.0, 'form': 0.0, 'matrices': 0.3218875824868201, 'king': 0.0, 'row': 0.0, 'multiply': 0.3218875824868201, 'animal': 0.0, 'svd': 0.0, 'linear': 0.0, 'methods': 0.0, 'system': 0.0, 'fruits': 0.0, 'compress': 0.0, 'data': 0.0, 'matrix': 0.0, 'jacobi': 0.0, 'found': 0.0, 'kingdom': 0.0}, {'mango': 0.0, 'echelon': 0.14631253749400913, 'lion': 0.0, 'necessary': 0.0, 'etc': 0.0, 'used': 0.0, 'dimensions': 0.0, 'reduced': 0.14631253749400913, 'reducing': 0.14631253749400913, 'solution': 0.14631253749400913, 'add': 0.0, 'qr': 0.0, 'space': 0.14631253749400913, 'helps': 0.0, 'us': 0.0, 'form': 0.14631253749400913, 'matrices': 0.0, 'king': 0.0, 'row': 0.14631253749400913, 'multiply': 0.0, 'animal': 0.0, 'svd': 0.0, 'linear': 0.14631253749400913, 'methods': 0.0, 'system': 0.14631253749400913, 'fruits': 0.0, 'compress': 0.0, 'data': 0.0, 'matrix': 0.08329915744310501, 'jacobi': 0.0, 'found': 0.14631253749400913, 'kingdom': 0.0}, {'mango': 0.0, 'echelon': 0.0, 'lion': 0.40235947810852507, 'necessary': 0.0, 'etc': 0.0, 'used': 0.0, 'dimensions': 0.0, 'reduced': 0.0, 'reducing': 0.0, 'solution': 0.0, 'add': 0.0, 'qr': 0.0, 'space': 0.0, 'helps': 0.0, 'us': 0.0, 'form': 0.0, 'matrices': 0.0, 'king': 0.22907268296853878, 'row': 0.0, 'multiply': 0.0, 'animal': 0.40235947810852507, 'svd': 0.0, 'linear': 0.0, 'methods': 0.0, 'system': 0.0, 'fruits': 0.0, 'compress': 0.0, 'data': 0.0, 'matrix': 0.0, 'jacobi': 0.0, 'found': 0.0, 'kingdom': 0.40235947810852507}, {'mango': 0.5364793041447, 'echelon': 0.0, 'lion': 0.0, 'necessary': 0.0, 'etc': 0.0, 'used': 0.0, 'dimensions': 0.0, 'reduced': 0.0, 'reducing': 0.0, 'solution': 0.0, 'add': 0.0, 'qr': 0.0, 'space': 0.0, 'helps': 0.0, 'us': 0.0, 'form': 0.0, 'matrices': 0.0, 'king': 0.3054302439580517, 'row': 0.0, 'multiply': 0.0, 'animal': 0.0, 'svd': 0.0, 'linear': 0.0, 'methods': 0.0, 'system': 0.0, 'fruits': 0.5364793041447, 'compress': 0.0, 'data': 0.0, 'matrix': 0.0, 'jacobi': 0.0, 'found': 0.0, 'kingdom': 0.0}]\n"
          ]
        }
      ]
    },
    {
      "cell_type": "code",
      "metadata": {
        "id": "KH8oiu8be845"
      },
      "source": [
        "\n",
        "def transpose(A):\n",
        "    ans = np.zeros((len(A[0]),len(A)))\n",
        "    for i in range(len(A)):\n",
        "        for j in range(len(A[0])):\n",
        "            ans[j][i] = A[i][j]\n",
        "    return ans\n"
      ],
      "execution_count": null,
      "outputs": []
    },
    {
      "cell_type": "code",
      "metadata": {
        "id": "A8ZwwwFjfEFn"
      },
      "source": [
        "def matmul(A,X):\n",
        "    if(type(X)!=list and len(X.shape)==1):\n",
        "        X = X.reshape((len(X), 1))\n",
        "    ans = np.zeros((len(A),len(X[0])))\n",
        "    for i in range(len(A)):\n",
        "        for j in range(len(X[0])):\n",
        "            for k in range(len(X)):\n",
        "                ans[i][j] = ans[i][j] + A[i][k]*X[k][j]\n",
        "    if(type(X)!=list and ans.shape[1]==1):\n",
        "        ans = ans.reshape((len(ans)))\n",
        "    return ans\n"
      ],
      "execution_count": null,
      "outputs": []
    },
    {
      "cell_type": "code",
      "metadata": {
        "id": "O7Px-NuifQbJ"
      },
      "source": [
        "def SvD(Amatrix):\n",
        "    originalMatrix = Amatrix.copy()\n",
        "    \n",
        "    ROWS=len(Amatrix)\n",
        "    COLS=len(Amatrix[0])\n",
        "\n",
        "    if (ROWS > COLS):\n",
        "        Amatrix = transpose(Amatrix)\n",
        "    B=Amatrix.copy()\n",
        "\n",
        "    \n",
        "\n",
        "    Amatrix = matmul(transpose(Amatrix),Amatrix)\n",
        "\n",
        "    # HERE Amatrix IS CONVERTED TO SQUARE MATRIX THUS ROWS=COLS\n",
        "    ROWS=len(Amatrix)\n",
        "    COLS=len(Amatrix[0])\n",
        "\n",
        "    Amatrix=np.round(Amatrix,decimals=5)\n",
        "    diagonalMatrix = Amatrix.copy()\n",
        "    eigenVectorsMatrix = np.zeros((ROWS,ROWS))\n",
        "    for i in range(0,ROWS):\n",
        "        eigenVectorsMatrix[i][i] = 1\n",
        "    \n",
        "    maximum=1\n",
        "    # Loop is iterated untill the max element does not become 0.\n",
        "    while(maximum>0.001):\n",
        "        # iOfMaxElement is the ith index of the max element other then diagonal\n",
        "        # jOfMaxElement is the jth index of the max element other then diagonal\n",
        "\n",
        "        maximum, iOfMaxElement,jOfMaxElement =math.fabs(diagonalMatrix[0][1]) ,0,1\n",
        "        for i in range(0,len(diagonalMatrix)):\n",
        "            for j in range(0,len(diagonalMatrix[0])):\n",
        "                if(i!=j and math.fabs(diagonalMatrix[i][j]) > maximum):\n",
        "                    maximum = math.fabs(diagonalMatrix[i][j])\n",
        "                    iOfMaxElement = i\n",
        "                    jOfMaxElement = j\n",
        "        theta = 0\n",
        "\n",
        "        if(diagonalMatrix[iOfMaxElement][iOfMaxElement] == diagonalMatrix[jOfMaxElement][jOfMaxElement]):\n",
        "            if(diagonalMatrix[iOfMaxElement][jOfMaxElement] > 0):\n",
        "                theta = pi/4\n",
        "            else:\n",
        "                theta = -1*pi/4\n",
        "        else:\n",
        "            value = 2*diagonalMatrix[iOfMaxElement][jOfMaxElement]/(diagonalMatrix[iOfMaxElement][iOfMaxElement] - diagonalMatrix[jOfMaxElement][jOfMaxElement])\n",
        "            theta = abs(0.5*math.atan(value))\n",
        "        OrthogonalMatrix = np.zeros((len(diagonalMatrix),len(diagonalMatrix[0])))\n",
        "        \n",
        "        for i in range(0,len(diagonalMatrix)):\n",
        "            OrthogonalMatrix[i][i] = 1\n",
        "        OrthogonalMatrix[iOfMaxElement][iOfMaxElement] = math.cos(theta)\n",
        "        OrthogonalMatrix[jOfMaxElement][jOfMaxElement] = OrthogonalMatrix[iOfMaxElement][iOfMaxElement] \n",
        "        OrthogonalMatrix[iOfMaxElement][jOfMaxElement] = math.sin(theta)\n",
        "        OrthogonalMatrix[jOfMaxElement][iOfMaxElement] = -1*OrthogonalMatrix[iOfMaxElement][jOfMaxElement]\n",
        "\n",
        "        \n",
        "        #diagonalMatrix= P^(-1)*D*P     where P^(-1) is P transpose\n",
        "\n",
        "        diagonalMatrix = matmul(transpose(OrthogonalMatrix),diagonalMatrix)\n",
        "        \n",
        "        diagonalMatrix = matmul(diagonalMatrix,OrthogonalMatrix)\n",
        "        \n",
        "        eigenVectorsMatrix = matmul(eigenVectorsMatrix,OrthogonalMatrix)\n",
        "        \n",
        "    # l1 is the list of eigen values which is extracted from the diagonal of the diagonalMatrix.\n",
        "    l1 = []\n",
        "    \n",
        "    for i in range(0,len(diagonalMatrix)):\n",
        "        l1.append(diagonalMatrix[i][i])\n",
        "        \n",
        "    #eigenVectorsMatrix is a list of eigenvectors -- VT\n",
        "    eigenVectorsMatrix=transpose(eigenVectorsMatrix) \n",
        "    \n",
        "    tempList = list(eigenVectorsMatrix.copy())\n",
        "    \n",
        "    for i in range(0,len(tempList)):\n",
        "        tempList[i] = list(tempList[i])\n",
        "        tempList[i].insert(0,l1[i])\n",
        "    \n",
        "    #Sorting the eigen values in descending order and simuntaneously arranging the eigen vectors w.r.t descending eigen values.\n",
        "    tempList.sort(reverse = True)\n",
        "    EigenValueslist=[]\n",
        "    EigenFinalVectorslist=[]\n",
        "    for i in range(0,len(tempList)):\n",
        "        EigenValueslist.append(tempList[i].pop(0))\n",
        "        EigenFinalVectorslist.append(tempList[i])\n",
        "    EigenValuesarr = np.array(EigenValueslist)\n",
        "    #VT is ready now\n",
        "    EigenFinalVectorsTransarr=np.array(EigenFinalVectorslist)\n",
        "\n",
        "    #Initiallizing U matrix\n",
        "    UMatrix=np.zeros((len(B),len(B)))\n",
        "    for i in range(len(B)):\n",
        "        # Ui=(B*Vi)/root(lamda)\n",
        "        mul=matmul((B),(EigenFinalVectorsTransarr[i]))\n",
        "        \n",
        "        UMatrix[i]=mul/math.sqrt(EigenValuesarr[i])\n",
        "    UMatrix = transpose(UMatrix)\n",
        "    finEigVals = []\n",
        "    for i in EigenValuesarr:\n",
        "        if(i > 1e-4): #we check if i!=0 \n",
        "            finEigVals.append(i)\n",
        "    #Singular values are root of every eigen values.\n",
        "    finSingVals = [math.sqrt(i) for i in finEigVals]\n",
        "    finSingVals = np.round(finSingVals,decimals = 6)\n",
        "\n",
        "    #Initiallizing Sigma matrix\n",
        "    Sigma = np.zeros((len(B),len(B[0])))\n",
        "    for i in range(0,min(len(B),len(B[0]))):\n",
        "        Sigma[i][i] = finSingVals[i]\n",
        "    VT = EigenFinalVectorsTransarr\n",
        "\n",
        "    if(len(originalMatrix) > len(originalMatrix[0])):\n",
        "        # For rows>columns we had taken Atranspose above and we had found U*Sigma*VT of AT\n",
        "        # Thus this will be equivalent to V*SigmaT*UT of A.\n",
        "        Sigma = transpose(Sigma)\n",
        "        Utemp = UMatrix.copy()\n",
        "        UMatrix = transpose(EigenFinalVectorsTransarr)\n",
        "        VT = transpose(Utemp)\n",
        "    return UMatrix,finSingVals,VT\n"
      ],
      "execution_count": null,
      "outputs": []
    },
    {
      "cell_type": "code",
      "metadata": {
        "id": "w8_qCFQ6kgKS"
      },
      "source": [
        "X = pd.DataFrame(tfidfl).T\n",
        "l_2d = X.T.values.tolist()\n",
        "l_2d = np.array(l_2d)\n",
        "l_2d = transpose(l_2d)\n",
        "L,S,R=SvD(l_2d)"
      ],
      "execution_count": null,
      "outputs": []
    },
    {
      "cell_type": "code",
      "metadata": {
        "colab": {
          "base_uri": "https://localhost:8080/"
        },
        "id": "9PHj4lLzkkGP",
        "outputId": "857ed0db-e1c5-465d-e771-54bf0aee4f35"
      },
      "source": [
        "print(L.shape,S.shape,R.shape)"
      ],
      "execution_count": null,
      "outputs": [
        {
          "output_type": "stream",
          "name": "stdout",
          "text": [
            "(32, 32) (5,) (5, 5)\n"
          ]
        }
      ]
    },
    {
      "cell_type": "code",
      "metadata": {
        "colab": {
          "base_uri": "https://localhost:8080/"
        },
        "id": "IFYvYsWV8B0v",
        "outputId": "22064336-b217-4b6d-c8fe-7b7436ff2656"
      },
      "source": [
        "S"
      ],
      "execution_count": null,
      "outputs": [
        {
          "output_type": "execute_result",
          "data": {
            "text/plain": [
              "array([0.836235, 0.719757, 0.712577, 0.477454, 0.462726])"
            ]
          },
          "metadata": {},
          "execution_count": 58
        }
      ]
    },
    {
      "cell_type": "code",
      "metadata": {
        "id": "KhrRQY0_e3NX"
      },
      "source": [
        "\n",
        "def zero_padding(n,U,S,V):\n",
        "    t = []\n",
        "    for i in range(0,n):\n",
        "        t.append(S[i])\n",
        "    #t is the tuple consisting of first n characters of the tuple S (S is sigma)\n",
        "    for i in range(len(S)-n):\n",
        "        t.append(0) #zero_padding t with zeros\n",
        "    \n",
        "    #convert the non-selected singular values to 0 and form a diagonal matrix, store as A\n",
        "    A=[]\n",
        "    for i in range (0,len(S)):\n",
        "        temp = []\n",
        "        for j in range(0,len(S)):\n",
        "            if(j == i):\n",
        "                temp.append(float(t[j]))\n",
        "            else:\n",
        "                temp.append(float(0))\n",
        "        A.append(temp)\n",
        "    newrow = []\n",
        "    for i in range(0,len(S)):\n",
        "        newrow.append(0)\n",
        "    #newrow is a list of zeros having same length as S\n",
        "    for i in range(len(U)-len(S)): \n",
        "        A.append(newrow)\n",
        "        \n",
        "    return A\n",
        "\n",
        "def reconstruct(u,s,v,n):\n",
        "    A=zero_padding(n,u,s,v)\n",
        "    return np.round(matmul(matmul(u,A),v),decimals=3)\n",
        "    \n",
        "def frobenius(a,a2): #finds how similar two matrices are\n",
        "    tempi1=(a-a2)**2\n",
        "    tempi2=a**2\n",
        "    sum1,sum2=0,0\n",
        "    \n",
        "    for i in (tempi1):\n",
        "        for j in (i):\n",
        "            sum1+=j\n",
        "    for i in (tempi2):\n",
        "        for j in (i):\n",
        "            sum2+=j\n",
        "    ret = math.sqrt(sum1)/math.sqrt(sum2)\n",
        "    return ret \n",
        "\n",
        "def find_k():\n",
        "    for i in range(1,len(S)):\n",
        "        f=frobenius(l_2d,reconstruct(L,S,R,i))\n",
        "        if f<0.35 :\n",
        "          print(i)\n",
        "          return i\n",
        "\n",
        "\n",
        "def search(q):\n",
        "    q=rem_punct(q)\n",
        "    q=q.lower().split(\" \")\n",
        "    terms = X.index\n",
        "    \n",
        "    query=[]\n",
        "    for i in terms:\n",
        "        if(i in q):\n",
        "            query.append(1)\n",
        "        else:\n",
        "            query.append(0) \n",
        "    query=np.asarray(query)\n",
        "    if 1 not in query:\n",
        "        print(\"Could not find any documents\")\n",
        "    \n",
        "    else:\n",
        "        k = find_k()\n",
        "        k=\n",
        "        print(\"k\",k)\n",
        "        print(\"q\",query)\n",
        "        reconstructed_A = reconstruct(L,S,R,k) \n",
        "        print(reconstructed_A)\n",
        "\n",
        "        score = query.dot(reconstructed_A)\n",
        "        \n",
        "        sort = {}\n",
        "        for i in range(len(score)):\n",
        "            if(score[i]<0):\n",
        "                score[i]=0\n",
        "            sort[i+1] = score[i]\n",
        "        last = {}\n",
        "        for w in sorted(sort, key=sort.get, reverse=True):\n",
        "            last[w]=sort[w]\n",
        "        xAxis=[]\n",
        "        title=\"Document-wise weightage of the string: \"\n",
        "        for i in q: \n",
        "            title=title+\" \"+i\n",
        "        yAxis=[]\n",
        "        \n",
        "        for document,sc in last.items():\n",
        "            print(\"Document: \",document)\n",
        "            xAxis.append(document)\n",
        "            yAxis.append(sc)\n",
        "        \n",
        "        plt.bar(xAxis, yAxis, color ='red',  \n",
        "                width = 0.4) \n",
        "        \n",
        "        plt.xlabel(\"Document number\") \n",
        "        plt.ylabel(\"Relevance-Score\") \n",
        "        plt.title(title) \n",
        "        plt.show() \n",
        "\n"
      ],
      "execution_count": null,
      "outputs": []
    },
    {
      "cell_type": "code",
      "metadata": {
        "colab": {
          "base_uri": "https://localhost:8080/",
          "height": 1000
        },
        "id": "c_9-T9oknZHq",
        "outputId": "79eb10c4-9eb9-4c01-b257-6410bb588250"
      },
      "source": [
        "while(1):\n",
        "    print(\"Please choose an option:\\n\"\n",
        "    + \"1: Search keywords \\n\"\n",
        "    + \"2: View Documents \\n\"\n",
        "    + \"3: Exit\")\n",
        "    opt = int(input())\n",
        "    if(opt == 1):\n",
        "        print(\"Enter keyword you want to search\\n\")\n",
        "        s = input()\n",
        "        print(\"Loading your search results...\")\n",
        "        search(s)\n",
        "        print(\"\\n\")\n",
        "    elif (opt == 2):\n",
        "        print(\"Enter Document number:\\n\\n\")\n",
        "        doc_n = int(input())\n",
        "\n",
        "        if(doc_n>len(store)):\n",
        "            print(\"There are only \",len(store),\" documents\")\n",
        "            continue\n",
        "        print(store[doc_n - 1])\n",
        "        print(\"\\n\")\n",
        "    elif( opt == 3):\n",
        "        print(\"THANK YOU\")\n",
        "        exit()\n",
        "    else:\n",
        "        print(\"Enter valid input. \")"
      ],
      "execution_count": null,
      "outputs": [
        {
          "output_type": "stream",
          "name": "stdout",
          "text": [
            "Please choose an option:\n",
            "1: Search keywords \n",
            "2: View Documents \n",
            "3: Exit\n",
            "2\n",
            "Enter Document number:\n",
            "\n",
            "\n",
            "0\n",
            "Mango is the king of fruits. \n",
            "\n",
            "\n",
            "Please choose an option:\n",
            "1: Search keywords \n",
            "2: View Documents \n",
            "3: Exit\n",
            "2\n",
            "Enter Document number:\n",
            "\n",
            "\n",
            "1\n",
            "SVD of a matrix helps us compress data. Jacobi, QR etc. are methods used for this.\n",
            "\n",
            "\n",
            "Please choose an option:\n",
            "1: Search keywords \n",
            "2: View Documents \n",
            "3: Exit\n",
            "2\n",
            "Enter Document number:\n",
            "\n",
            "\n",
            "3\n",
            "Solution space of a linear system can be found by reducing a matrix to its row reduced echelon form.\n",
            "\n",
            "\n",
            "Please choose an option:\n",
            "1: Search keywords \n",
            "2: View Documents \n",
            "3: Exit\n",
            "1\n",
            "Enter keyword you want to search\n",
            "\n",
            "matrix\n",
            "Loading your search results...\n",
            "4\n",
            "k 4\n",
            "q [0 0 0 0 0 0 0 0 0 0 0 0 0 0 0 0 0 0 0 0 0 0 0 0 0 0 0 0 1 0 0 0]\n",
            "[[ 0.     0.     0.    -0.     0.536]\n",
            " [ 0.073  0.     0.068  0.     0.   ]\n",
            " [ 0.     0.     0.     0.402 -0.   ]\n",
            " [ 0.     0.322  0.     0.     0.   ]\n",
            " [ 0.078  0.     0.073  0.     0.   ]\n",
            " [ 0.078  0.     0.073  0.     0.   ]\n",
            " [ 0.     0.322  0.     0.     0.   ]\n",
            " [ 0.073  0.     0.068  0.     0.   ]\n",
            " [ 0.073  0.     0.068  0.     0.   ]\n",
            " [ 0.073  0.     0.068  0.     0.   ]\n",
            " [ 0.     0.322  0.     0.     0.   ]\n",
            " [ 0.078  0.     0.073  0.     0.   ]\n",
            " [ 0.073  0.     0.068  0.     0.   ]\n",
            " [ 0.078  0.     0.073  0.     0.   ]\n",
            " [ 0.078  0.     0.073  0.     0.   ]\n",
            " [ 0.073  0.     0.068  0.     0.   ]\n",
            " [ 0.     0.322  0.     0.     0.   ]\n",
            " [ 0.     0.     0.     0.229  0.305]\n",
            " [ 0.073  0.     0.068  0.     0.   ]\n",
            " [ 0.     0.322  0.     0.     0.   ]\n",
            " [ 0.     0.     0.     0.402 -0.   ]\n",
            " [ 0.078  0.     0.073  0.     0.   ]\n",
            " [ 0.073  0.     0.068  0.     0.   ]\n",
            " [ 0.078  0.     0.073  0.     0.   ]\n",
            " [ 0.073  0.     0.068  0.     0.   ]\n",
            " [ 0.     0.     0.    -0.     0.536]\n",
            " [ 0.078  0.     0.073  0.     0.   ]\n",
            " [ 0.078  0.     0.073  0.     0.   ]\n",
            " [ 0.087  0.     0.082  0.     0.   ]\n",
            " [ 0.078  0.     0.073  0.     0.   ]\n",
            " [ 0.073  0.     0.068  0.     0.   ]\n",
            " [ 0.     0.     0.     0.402 -0.   ]]\n",
            "Document:  1\n",
            "Document:  3\n",
            "Document:  2\n",
            "Document:  4\n",
            "Document:  5\n"
          ]
        },
        {
          "output_type": "display_data",
          "data": {
            "image/png": "[encoded data removed]",
            "text/plain": [
              "<Figure size 432x288 with 1 Axes>"
            ]
          },
          "metadata": {
            "needs_background": "light"
          }
        },
        {
          "output_type": "stream",
          "name": "stdout",
          "text": [
            "\n",
            "\n",
            "Please choose an option:\n",
            "1: Search keywords \n",
            "2: View Documents \n",
            "3: Exit\n",
            "1\n",
            "Enter keyword you want to search\n",
            "\n",
            "matrix svd\n",
            "Loading your search results...\n",
            "4\n",
            "k 4\n",
            "q [0 0 0 0 0 0 0 0 0 0 0 0 0 0 0 0 0 0 0 0 0 1 0 0 0 0 0 0 1 0 0 0]\n",
            "[[ 0.     0.     0.    -0.     0.536]\n",
            " [ 0.073  0.     0.068  0.     0.   ]\n",
            " [ 0.     0.     0.     0.402 -0.   ]\n",
            " [ 0.     0.322  0.     0.     0.   ]\n",
            " [ 0.078  0.     0.073  0.     0.   ]\n",
            " [ 0.078  0.     0.073  0.     0.   ]\n",
            " [ 0.     0.322  0.     0.     0.   ]\n",
            " [ 0.073  0.     0.068  0.     0.   ]\n",
            " [ 0.073  0.     0.068  0.     0.   ]\n",
            " [ 0.073  0.     0.068  0.     0.   ]\n",
            " [ 0.     0.322  0.     0.     0.   ]\n",
            " [ 0.078  0.     0.073  0.     0.   ]\n",
            " [ 0.073  0.     0.068  0.     0.   ]\n",
            " [ 0.078  0.     0.073  0.     0.   ]\n",
            " [ 0.078  0.     0.073  0.     0.   ]\n",
            " [ 0.073  0.     0.068  0.     0.   ]\n",
            " [ 0.     0.322  0.     0.     0.   ]\n",
            " [ 0.     0.     0.     0.229  0.305]\n",
            " [ 0.073  0.     0.068  0.     0.   ]\n",
            " [ 0.     0.322  0.     0.     0.   ]\n",
            " [ 0.     0.     0.     0.402 -0.   ]\n",
            " [ 0.078  0.     0.073  0.     0.   ]\n",
            " [ 0.073  0.     0.068  0.     0.   ]\n",
            " [ 0.078  0.     0.073  0.     0.   ]\n",
            " [ 0.073  0.     0.068  0.     0.   ]\n",
            " [ 0.     0.     0.    -0.     0.536]\n",
            " [ 0.078  0.     0.073  0.     0.   ]\n",
            " [ 0.078  0.     0.073  0.     0.   ]\n",
            " [ 0.087  0.     0.082  0.     0.   ]\n",
            " [ 0.078  0.     0.073  0.     0.   ]\n",
            " [ 0.073  0.     0.068  0.     0.   ]\n",
            " [ 0.     0.     0.     0.402 -0.   ]]\n",
            "Document:  1\n",
            "Document:  3\n",
            "Document:  2\n",
            "Document:  4\n",
            "Document:  5\n"
          ]
        },
        {
          "output_type": "display_data",
          "data": {
            "image/png": "[encoded data removed]",
            "text/plain": [
              "<Figure size 432x288 with 1 Axes>"
            ]
          },
          "metadata": {
            "needs_background": "light"
          }
        },
        {
          "output_type": "stream",
          "name": "stdout",
          "text": [
            "\n",
            "\n",
            "Please choose an option:\n",
            "1: Search keywords \n",
            "2: View Documents \n",
            "3: Exit\n"
          ]
        },
        {
          "output_type": "error",
          "ename": "KeyboardInterrupt",
          "evalue": "ignored",
          "traceback": [
            "\u001b[0;31m---------------------------------------------------------------------------\u001b[0m",
            "\u001b[0;31mKeyboardInterrupt\u001b[0m                         Traceback (most recent call last)",
            "\u001b[0;32m/usr/local/lib/python3.7/dist-packages/ipykernel/kernelbase.py\u001b[0m in \u001b[0;36m_input_request\u001b[0;34m(self, prompt, ident, parent, password)\u001b[0m\n\u001b[1;32m    728\u001b[0m             \u001b[0;32mtry\u001b[0m\u001b[0;34m:\u001b[0m\u001b[0;34m\u001b[0m\u001b[0;34m\u001b[0m\u001b[0m\n\u001b[0;32m--> 729\u001b[0;31m                 \u001b[0mident\u001b[0m\u001b[0;34m,\u001b[0m \u001b[0mreply\u001b[0m \u001b[0;34m=\u001b[0m \u001b[0mself\u001b[0m\u001b[0;34m.\u001b[0m\u001b[0msession\u001b[0m\u001b[0;34m.\u001b[0m\u001b[0mrecv\u001b[0m\u001b[0;34m(\u001b[0m\u001b[0mself\u001b[0m\u001b[0;34m.\u001b[0m\u001b[0mstdin_socket\u001b[0m\u001b[0;34m,\u001b[0m \u001b[0;36m0\u001b[0m\u001b[0;34m)\u001b[0m\u001b[0;34m\u001b[0m\u001b[0;34m\u001b[0m\u001b[0m\n\u001b[0m\u001b[1;32m    730\u001b[0m             \u001b[0;32mexcept\u001b[0m \u001b[0mException\u001b[0m\u001b[0;34m:\u001b[0m\u001b[0;34m\u001b[0m\u001b[0;34m\u001b[0m\u001b[0m\n",
            "\u001b[0;32m/usr/local/lib/python3.7/dist-packages/jupyter_client/session.py\u001b[0m in \u001b[0;36mrecv\u001b[0;34m(self, socket, mode, content, copy)\u001b[0m\n\u001b[1;32m    802\u001b[0m         \u001b[0;32mtry\u001b[0m\u001b[0;34m:\u001b[0m\u001b[0;34m\u001b[0m\u001b[0;34m\u001b[0m\u001b[0m\n\u001b[0;32m--> 803\u001b[0;31m             \u001b[0mmsg_list\u001b[0m \u001b[0;34m=\u001b[0m \u001b[0msocket\u001b[0m\u001b[0;34m.\u001b[0m\u001b[0mrecv_multipart\u001b[0m\u001b[0;34m(\u001b[0m\u001b[0mmode\u001b[0m\u001b[0;34m,\u001b[0m \u001b[0mcopy\u001b[0m\u001b[0;34m=\u001b[0m\u001b[0mcopy\u001b[0m\u001b[0;34m)\u001b[0m\u001b[0;34m\u001b[0m\u001b[0;34m\u001b[0m\u001b[0m\n\u001b[0m\u001b[1;32m    804\u001b[0m         \u001b[0;32mexcept\u001b[0m \u001b[0mzmq\u001b[0m\u001b[0;34m.\u001b[0m\u001b[0mZMQError\u001b[0m \u001b[0;32mas\u001b[0m \u001b[0me\u001b[0m\u001b[0;34m:\u001b[0m\u001b[0;34m\u001b[0m\u001b[0;34m\u001b[0m\u001b[0m\n",
            "\u001b[0;32m/usr/local/lib/python3.7/dist-packages/zmq/sugar/socket.py\u001b[0m in \u001b[0;36mrecv_multipart\u001b[0;34m(self, flags, copy, track)\u001b[0m\n\u001b[1;32m    618\u001b[0m         \"\"\"\n\u001b[0;32m--> 619\u001b[0;31m         \u001b[0mparts\u001b[0m \u001b[0;34m=\u001b[0m \u001b[0;34m[\u001b[0m\u001b[0mself\u001b[0m\u001b[0;34m.\u001b[0m\u001b[0mrecv\u001b[0m\u001b[0;34m(\u001b[0m\u001b[0mflags\u001b[0m\u001b[0;34m,\u001b[0m \u001b[0mcopy\u001b[0m\u001b[0;34m=\u001b[0m\u001b[0mcopy\u001b[0m\u001b[0;34m,\u001b[0m \u001b[0mtrack\u001b[0m\u001b[0;34m=\u001b[0m\u001b[0mtrack\u001b[0m\u001b[0;34m)\u001b[0m\u001b[0;34m]\u001b[0m\u001b[0;34m\u001b[0m\u001b[0;34m\u001b[0m\u001b[0m\n\u001b[0m\u001b[1;32m    620\u001b[0m         \u001b[0;31m# have first part already, only loop while more to receive\u001b[0m\u001b[0;34m\u001b[0m\u001b[0;34m\u001b[0m\u001b[0;34m\u001b[0m\u001b[0m\n",
            "\u001b[0;32mzmq/backend/cython/socket.pyx\u001b[0m in \u001b[0;36mzmq.backend.cython.socket.Socket.recv\u001b[0;34m()\u001b[0m\n",
            "\u001b[0;32mzmq/backend/cython/socket.pyx\u001b[0m in \u001b[0;36mzmq.backend.cython.socket.Socket.recv\u001b[0;34m()\u001b[0m\n",
            "\u001b[0;32mzmq/backend/cython/socket.pyx\u001b[0m in \u001b[0;36mzmq.backend.cython.socket._recv_copy\u001b[0;34m()\u001b[0m\n",
            "\u001b[0;32m/usr/local/lib/python3.7/dist-packages/zmq/backend/cython/checkrc.pxd\u001b[0m in \u001b[0;36mzmq.backend.cython.checkrc._check_rc\u001b[0;34m()\u001b[0m\n",
            "\u001b[0;31mKeyboardInterrupt\u001b[0m: ",
            "\nDuring handling of the above exception, another exception occurred:\n",
            "\u001b[0;31mKeyboardInterrupt\u001b[0m                         Traceback (most recent call last)",
            "\u001b[0;32m<ipython-input-57-93a6e478af9f>\u001b[0m in \u001b[0;36m<module>\u001b[0;34m()\u001b[0m\n\u001b[1;32m      4\u001b[0m     \u001b[0;34m+\u001b[0m \u001b[0;34m\"2: View Documents \\n\"\u001b[0m\u001b[0;34m\u001b[0m\u001b[0;34m\u001b[0m\u001b[0m\n\u001b[1;32m      5\u001b[0m     + \"3: Exit\")\n\u001b[0;32m----> 6\u001b[0;31m     \u001b[0mopt\u001b[0m \u001b[0;34m=\u001b[0m \u001b[0mint\u001b[0m\u001b[0;34m(\u001b[0m\u001b[0minput\u001b[0m\u001b[0;34m(\u001b[0m\u001b[0;34m)\u001b[0m\u001b[0;34m)\u001b[0m\u001b[0;34m\u001b[0m\u001b[0;34m\u001b[0m\u001b[0m\n\u001b[0m\u001b[1;32m      7\u001b[0m     \u001b[0;32mif\u001b[0m\u001b[0;34m(\u001b[0m\u001b[0mopt\u001b[0m \u001b[0;34m==\u001b[0m \u001b[0;36m1\u001b[0m\u001b[0;34m)\u001b[0m\u001b[0;34m:\u001b[0m\u001b[0;34m\u001b[0m\u001b[0;34m\u001b[0m\u001b[0m\n\u001b[1;32m      8\u001b[0m         \u001b[0mprint\u001b[0m\u001b[0;34m(\u001b[0m\u001b[0;34m\"Enter keyword you want to search\\n\"\u001b[0m\u001b[0;34m)\u001b[0m\u001b[0;34m\u001b[0m\u001b[0;34m\u001b[0m\u001b[0m\n",
            "\u001b[0;32m/usr/local/lib/python3.7/dist-packages/ipykernel/kernelbase.py\u001b[0m in \u001b[0;36mraw_input\u001b[0;34m(self, prompt)\u001b[0m\n\u001b[1;32m    702\u001b[0m             \u001b[0mself\u001b[0m\u001b[0;34m.\u001b[0m\u001b[0m_parent_ident\u001b[0m\u001b[0;34m,\u001b[0m\u001b[0;34m\u001b[0m\u001b[0;34m\u001b[0m\u001b[0m\n\u001b[1;32m    703\u001b[0m             \u001b[0mself\u001b[0m\u001b[0;34m.\u001b[0m\u001b[0m_parent_header\u001b[0m\u001b[0;34m,\u001b[0m\u001b[0;34m\u001b[0m\u001b[0;34m\u001b[0m\u001b[0m\n\u001b[0;32m--> 704\u001b[0;31m             \u001b[0mpassword\u001b[0m\u001b[0;34m=\u001b[0m\u001b[0;32mFalse\u001b[0m\u001b[0;34m,\u001b[0m\u001b[0;34m\u001b[0m\u001b[0;34m\u001b[0m\u001b[0m\n\u001b[0m\u001b[1;32m    705\u001b[0m         )\n\u001b[1;32m    706\u001b[0m \u001b[0;34m\u001b[0m\u001b[0m\n",
            "\u001b[0;32m/usr/local/lib/python3.7/dist-packages/ipykernel/kernelbase.py\u001b[0m in \u001b[0;36m_input_request\u001b[0;34m(self, prompt, ident, parent, password)\u001b[0m\n\u001b[1;32m    732\u001b[0m             \u001b[0;32mexcept\u001b[0m \u001b[0mKeyboardInterrupt\u001b[0m\u001b[0;34m:\u001b[0m\u001b[0;34m\u001b[0m\u001b[0;34m\u001b[0m\u001b[0m\n\u001b[1;32m    733\u001b[0m                 \u001b[0;31m# re-raise KeyboardInterrupt, to truncate traceback\u001b[0m\u001b[0;34m\u001b[0m\u001b[0;34m\u001b[0m\u001b[0;34m\u001b[0m\u001b[0m\n\u001b[0;32m--> 734\u001b[0;31m                 \u001b[0;32mraise\u001b[0m \u001b[0mKeyboardInterrupt\u001b[0m\u001b[0;34m\u001b[0m\u001b[0;34m\u001b[0m\u001b[0m\n\u001b[0m\u001b[1;32m    735\u001b[0m             \u001b[0;32melse\u001b[0m\u001b[0;34m:\u001b[0m\u001b[0;34m\u001b[0m\u001b[0;34m\u001b[0m\u001b[0m\n\u001b[1;32m    736\u001b[0m                 \u001b[0;32mbreak\u001b[0m\u001b[0;34m\u001b[0m\u001b[0;34m\u001b[0m\u001b[0m\n",
            "\u001b[0;31mKeyboardInterrupt\u001b[0m: "
          ]
        }
      ]
    },
    {
      "cell_type": "code",
      "metadata": {
        "id": "fLvFkyaOgFEX"
      },
      "source": [
        ""
      ],
      "execution_count": null,
      "outputs": []
    }
  ]
}